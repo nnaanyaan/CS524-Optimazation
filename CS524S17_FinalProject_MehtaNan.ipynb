{
 "cells": [
  {
   "cell_type": "markdown",
   "metadata": {},
   "source": [
    "### CS/ECE/ISyE 524 &mdash; Introduction to Optimization &mdash; Spring 2017 ###\n",
    "\n",
    "# Helping Santa's Helpers - Task Scheduling #\n",
    "\n",
    "#### Yan Nan (yan.nan@wisc.edu),  Ronak Mehta  (ronakrm@cs.wisc.edu)\n",
    "\n",
    "*****\n",
    "\n",
    "### Table of Contents\n",
    "\n",
    "1. [Introduction](#1.-Introduction)\n",
    "  1. [The Data](#1.A.-The-Data)\n",
    "1. [Mathematical Model](#2.-Mathematical-model)\n",
    "  1. [Scheduling Toys Task with No Resources Limited](#2.A.-Scheduling-Toys-Task-with-No-Resources-Limited)\n",
    "  1. [Earlier Completion Time under Limited Resources](#2.B.-Earlier-Completion-Time-under-Limited-Resources)\n",
    "  1. [Objective with Workshop Constraints](#2.C.-Objective-with-Workshop-Constraints)\n",
    "  1. [Balancing Resources and Completion Time](#2.D.-Balancing-Resources-and-Completion-Time)\n",
    "1. [Implementations and Functions](#3.-Implementations-and-Functions)\n",
    "  1. [Implementation for 2.A](#3.A.-Implementation-for-2.A)\n",
    "  1. [Implementation for 2.B](#3.B.-Implementation-for-2.B)\n",
    "  1. [Implementation for 2.C](#3.C.-Implementation-for-2.C)\n",
    "  1. [Implementation for 2.D](#3.D.-Implementation-for-2.D)\n",
    "  1. [Schedule Plotting](#3.E.-Schedule-Plotting)\n",
    "1. [Results and Discussion](#4.-Results-and-Discussion)\n",
    "  1. [Parts A,B, and C](#4.A.-Parts-A,B,-and-C)\n",
    "  1. [Part D: Pareto Tradeoffs](#4.B.-Part-D:-Pareto-Tradeoffs)\n",
    "  1. [Solver Comparisons](#4.C.-Solver-Comparisons)\n",
    "  1. [Productivity Modeling](#4.D.-Productivity-Modeling)\n",
    "1. [More Discussion, Future Work, and Conclusions](#5.-More-Discussion,-Future-Work,-and-Conclusions)"
   ]
  },
  {
   "cell_type": "markdown",
   "metadata": {
    "collapsed": true
   },
   "source": [
    "## 1. Introduction ##\n",
    "\n",
    "This problem is helping Santa to make a toy-production schedule which  meets his toy target while keeping his elves healthy and happy.\n",
    "\n",
    "In this project we tackle the problem of highly-constrained scheduling. While we discussed assignment and scheduling models in class, those models are often too simple to model real world scheduling requirements. Particularly, there may be very intricate dependencies between tasks, or resource restrictions and complications that make applying simple methods difficult. Later we saw that dependencies could be modeled as first-order logic, and that those logic statements could be turned into linear constraints. With this new tool we were able to generalize assignment problems to more complex tasks.\n",
    "\n",
    "Here, we make an effort to apply those concepts discussed to a more realistic scheduling problem. Santa is on a tight schedule and needs to ensure that his workshop works efficiently and that he meets his toy target for the year. His workshop is comprised of many elves, each of which can make toys throughout the workday, throughout the year.\n",
    "\n",
    "In this job scheduling problem, we should assign (1) which elves work on which toys and (2) at what time they work. The goal is to complete all of the toys as early as possible. This particular problem setup was taken from a Kaggle competition, where we attempt to minimize the following objective:\n",
    "                                            S= $t_f$ ∗log(1+ $n_e$).\n",
    "                                           \n",
    "where  $t_f$  is the last minute the final toy is complete, and\n",
    "       $n_e$ is the number of unique elves that were needed to build the toys.\n",
    "\n",
    "Additionally, there are specific constraints specifying toy and elf constraints. Specifically, there are three types of constraints in this model.\n",
    "\n",
    "**For toys:**\n",
    "\n",
    "(1) Work on toys cannot start before the order comes in but can start any time after it comes in. $T_{start}$ ≥ $T_{arrival}$\n",
    "\n",
    "(2) Once work on a toy starts, it must continue until the toy is complete, and it must be performed by only one elf. (an elf cannot start work one day, stop, and then resume the next morning, or have a different elf resume the work)\n",
    "\n",
    "\n",
    "**For working conditions:**\n",
    "\n",
    "(1) Santa's Workshop opens for the year on January 1, 2014 at 9:00 am North Pole Time. Sanctioned elf working hours are every day, 7 days a week, from 9:00 to 19:00 (10 hours per day). Work outside of these hours are unsanctioned and penalized.\n",
    "\n",
    "(2) Every minute worked during unsanctioned hours must be compensated with a rest period of equivalent time during sanctioned hours.\n",
    "\n",
    "• e.g: If an elf works from 14:00-19:33, the next time he can work is the following day at 9:33. Thus 33 minutes overtime results in 33 minutes rest time.\n",
    "\n",
    "(3 )An elf with no accrued resting period may start work at any time.\n",
    "\n",
    "**For Elves**\n",
    "\n",
    "There are 900 elves in Santa's Workshop, every elf is described by an id and a productivity rating.\n",
    "\n",
    "(1) For every elf j, there is a workload for him. (PartA)\n",
    "\n",
    "(2) Minimum and maximum values for the productivity rating are 0.25 and 4.0, respectively. All elves start the year with a productivity rating of 1.0.\n",
    "\n",
    "(3) If the elf works during sanctioned work hours, an elf's productivity increases as\n",
    "$ p = p′ ∗ (1.02)^n $\n",
    "\n",
    "(4) If the elf works during unsanctioned work hours, an elf's productivity increases as\n",
    "$ p = p′ ∗ (0.9)^n $\n",
    "\n",
    "**Type of model**\n",
    "\n",
    "This is very clearly a Mixed-Integer Linear Programming (MILP) problem, with a nonlinear objective. The complexity of the model largely comes from the dependencies and logical conditions imposed by the problem description, as well as some of the dynamic aspects including productivity."
   ]
  },
  {
   "cell_type": "markdown",
   "metadata": {},
   "source": [
    "### 1.A. The Data ###"
   ]
  },
  {
   "cell_type": "markdown",
   "metadata": {},
   "source": [
    "An important part of this problem is the large scale of the input data. In particular, the 10 million toys are identified by their arrival time and their duration. The comma-separated value (CSV) file included with the problem statement is 280 MB. In order to test our formulations, we first crop the file to only the first 100 toys and save it (\"test.csv\"), and we only read the first $nToys$ number of rows from the CSV."
   ]
  },
  {
   "cell_type": "code",
   "execution_count": 1,
   "metadata": {
    "collapsed": false
   },
   "outputs": [
    {
     "name": "stderr",
     "output_type": "stream",
     "text": [
      "WARNING: Method definition describe(AbstractArray) in module StatsBase at C:\\Users\\Owner\\.julia\\v0.5\\StatsBase\\src\\scalarstats.jl:573 overwritten in module DataFrames at C:\\Users\\Owner\\.julia\\v0.5\\DataFrames\\src\\abstractdataframe\\abstractdataframe.jl:407.\n"
     ]
    }
   ],
   "source": [
    "using DataFrames;\n",
    "nToys = 100;\n",
    "raw = readtable(\"test.csv\", nrows = nToys);\n",
    "\n",
    "ToyId = raw[1:nToys,:ToyId];\n",
    "Duration = raw[1:nToys,:Duration];\n",
    "Arrival_datetime = raw[1:nToys,:Arrival_time];"
   ]
  },
  {
   "cell_type": "markdown",
   "metadata": {},
   "source": [
    "Additionally, the formatting of the arrival time needs to be configured into a more natural format. We use the convention that January 1st, 2014 is \"Time 0\". With this, we can measure all time as minutes since Time 0. The following converts the time format for arrival times to this convention."
   ]
  },
  {
   "cell_type": "code",
   "execution_count": 2,
   "metadata": {
    "collapsed": false
   },
   "outputs": [
    {
     "data": {
      "text/plain": [
       "getGlobalArrivalTimes (generic function with 1 method)"
      ]
     },
     "execution_count": 2,
     "metadata": {},
     "output_type": "execute_result"
    }
   ],
   "source": [
    "function getGlobalArrivalTimes(Arrival_datetime, DTFormatString)\n",
    "    # Format the arrival time into standard DateTime, and then use the time since the start of the year as a base\n",
    "    # Also format to minutes since start of year\n",
    "    # Input: Datetimes with format specified in the DTFormatString\n",
    "    \n",
    "    nToys = size(Arrival_datetime,1);\n",
    "    Arrival_time = zeros(nToys);\n",
    "    for i in 1:nToys\n",
    "        Arrival_time[i] = Dates.Minute(DateTime(Arrival_datetime[i], DTFormatString)) \n",
    "        - Dates.Minute(DateTime(\"2014 1 1 00 00\", DTFormatString));\n",
    "    end\n",
    "    \n",
    "    return Arrival_time;\n",
    "end\n"
   ]
  },
  {
   "cell_type": "code",
   "execution_count": 3,
   "metadata": {
    "collapsed": true
   },
   "outputs": [],
   "source": [
    "DTFormatString = \"y\\ m\\ d\\ H\\ M\";\n",
    "Arrival_time = getGlobalArrivalTimes(Arrival_datetime, DTFormatString);"
   ]
  },
  {
   "cell_type": "markdown",
   "metadata": {
    "collapsed": true
   },
   "source": [
    "## 2. Mathematical model ##\n",
    "\n",
    "We begin with the simple model, in this model, we are given $n$ toys (tasks) and $m$ elves (resources). \n",
    "For every toy, we have variables and constants indicating (1) its arrival time $arrive_i$, (2) its start time $s_i$, (3) its finishing time $t_i$, and (4) its build time $duration_i$; (In more complicated models, the duration changes from a constant input to a dynamic variable, as the productivity of an elf influences how quickly the toy can be made.)\n",
    "\n",
    "As we show above, the goals are \n",
    "\n",
    "1. complete all the toy assignments as early as possible.\n",
    "2. minimize the numbers of used elves. \n",
    "\n",
    "In the process of modeling, we first model the problems separately, and then attempt to combine them into one formulation which minimizes some combination of elves and last toy completion time."
   ]
  },
  {
   "cell_type": "markdown",
   "metadata": {
    "collapsed": true
   },
   "source": [
    "\n",
    "### 2.A. Scheduling Toys Task with No Resources Limited ##\n",
    "\n",
    "In this nai\\\"ve setup, we are only interested in accurately modeling toys being built as they come in, and that these toys are built as soon as possible. Without any elf constraints, we expect that solutions to this simple **Linear Program** will complete by the greatest arrival time + duration.\n",
    "\n",
    "#### Decision Variables: ####\n",
    "\n",
    "2. Define $s_i$ to be the time to begin work on toy i,for toy $i=1, 2, \\ldots, n$ . \n",
    "3. Define $a_i$ to be the arrival time for each toy.\n",
    "4. Define $z$ to be the time to complete all toys (or the time at which the last toy is completed).\n",
    "\n",
    "#### Constraints: ####\n",
    "\n",
    "1. For each toy $i$, the ending time of the toy i cannot exceed $z$. That is, $\\forall i, s_i + w_i \\leq z$.\n",
    "2. For each toy $i$, the start time of the toy i cannot preceed its arriving time. That is, $\\forall i, s_i \\geq a_i$.\n",
    "\n",
    "#### Objective: ####\n",
    "\n",
    "minimize z (the finishing time of the last toy.)\n",
    "\n",
    "#### Standard Form ####\n",
    "$$\n",
    "\\begin{aligned}\n",
    "\\text{minimize} \\qquad & z \\\\\n",
    "\\text{subject to} \\qquad &  \\\\\n",
    "& \\ w_i + s_i \\leq z \\qquad  i=1, 2, \\ldots, n \\\\\n",
    "& \\ s_i \\geq a_i \\qquad  i=1, 2, \\ldots, n \\\\\n",
    "\\end{aligned}\n",
    "$$\n",
    "\n"
   ]
  },
  {
   "cell_type": "markdown",
   "metadata": {
    "collapsed": true
   },
   "source": [
    "### 2.B. Earlier Completion Time under Limited Resources ###\n",
    "\n",
    "In this situation we extend the simple model above to one where we have a fixed number of workers and still want to finish all assignments as soon as possible. Here our model becomes significantly more complex: If we assign two assignments to the same worker, the working time of them cannot conflict. This requires significantly more variables and constraints as outlined below. **This is a MILP model.** These variables are indicators, or binary variables, and need to be modeled as such.\n",
    "\n",
    "Let $x_{ij}$ be the binary variable to indicate whether toy $i$ is assigned to elf $j$, and $s_i$ be the variable for the starting time of toy $i$, then we can express it as following logic statement: \n",
    "$$\\text{if} \\sum\\limits_{j=1}^m x_{ij} x_{kj} = 1 \\text{, then } s_i +w_i \\leq s_k \\text{ or } s_k +w_k \\leq s_i$$\n",
    "For this logic statement, we need:\n",
    "\n",
    "\n",
    "#### Decision Variables: ####\n",
    "\n",
    "1. a binary variable $u_{ikj}$ to indicate whether toy i and toy j are scheduled on elf $j$. That is, $u_{ikj}=1$ iff $x_{ij} = x_{kj} = 1$.\n",
    "2. a binary variable $v_{ik}$ to indicate whether toy $i$ completes before toy $k$. That is, if $v_{ik}=1$ then $s_i+w_i\\leq s_k$.\n",
    "3. a binary variable $r_{ik}$ to indicate whether toy $k$ completes before toy $i$. That is, if $r_{ik}=1$ then $s_k+w_k\\leq s_i$.\n",
    "\n",
    "#### Constraints: ####\n",
    "\n",
    "The logical constraints enforcing no conflicts can then be written as a set of linear constraints for the pair of tasks $i,k$ are:\n",
    "1. For each $j$, we have $x_{ij} \\geq u_{ikj}$, $x_{kj} \\geq u_{ikj}$, and $x_{ij} + x_{kj} \\leq u_{ikj} +1$;\n",
    "2. $s_i+w_i-s_k \\leq U (1-v_{ik})$, where $U$ is an upper bound of $s_i+w_i-s_k$.\n",
    "3. $s_k+w_k-s_i \\leq U (1-r_{ik})$, where $U$ is an upper bound of $s_k+w_s-y_i$ (Symmetric, so same as above).\n",
    "4. $\\sum\\limits_{j=1}^m u_{ikj} \\leq v_{ik} + r_{ik}$\n"
   ]
  },
  {
   "cell_type": "markdown",
   "metadata": {},
   "source": [
    "### 2.C. Objective with Workshop Constraints ###\n",
    "\n",
    "The above models do not take into consideration that the workshop is only open for certain periods of the day, and that elves are penalized for working during unsanctioned (abnormal) work hours. This also introduces another set of constraints, in that toys must be completed in one work day. In a simple model, let us assume that toys cannot be built outside of normal work hours.\n",
    "\n",
    "#### Decision Variables: ####\n",
    "\n",
    "To account for our global time framework, we need to introduce a \"day\" variable. Define an _integer_ variable $d_{i}$ to indicate which day toy $i$ is built, for toy $i=1, 2, \\ldots, n$ and day $1 \\leq d_{i} \\leq 365$. \n",
    "\n",
    "#### Constraints: ####\n",
    "\n",
    "The constraints must reflect that a toy's start time should be after the opening workshop time, and that the toy is completed before the workshop closes for that day. These end up being simple linear constraints:\n",
    "\n",
    "1. A toy must start after the opening time for that day: $\\forall i, s_i \\geq OpenTime_{d[i]}$\n",
    "2. A toy must finish before the closing time for that day: $\\forall i, s_i + Duration_i \\leq CloseTime_{d[i]}$.\n",
    "\n",
    "The open and close times, can be explicitly written in our global time framework as the following:\n",
    "\n",
    "$$ OpenTime_{day(i)} = 9AM + 60*24*(i - 1) $$\n",
    "$$ CloseTime_{day(i)} = 7PM + 60*24*(i - 1) $$\n",
    "\n",
    "Where $9AM,7PM$ are 540 and 1140 in minutes. We define the constants $wksp\\_open$ and $wksp\\_clos$ to be these constants.\n",
    "\n",
    "#### Standard Form ####\n",
    "Building on our formulations above, we add the following constraints to the model:\n",
    "\n",
    "$$\n",
    "\\begin{aligned}\n",
    "s_i &\\geq wksp\\_open + 60*24*(d[i] - 1), \\qquad \\forall i=1, 2, \\ldots, n \\\\\n",
    "s_i + Duration_i &\\leq wksp\\_clos + 60*24*(d[i] - 1), \\qquad \\forall i=1, 2, \\ldots, n \\\\\n",
    "\\end{aligned}\n",
    "$$\n"
   ]
  },
  {
   "cell_type": "code",
   "execution_count": null,
   "metadata": {
    "collapsed": true
   },
   "outputs": [],
   "source": []
  },
  {
   "cell_type": "markdown",
   "metadata": {
    "collapsed": true
   },
   "source": [
    "\n",
    "### 2.D. Balancing Resources and Completion Time ###\n",
    "\n",
    "In some situations, we want to decrease the number of workers we use as well as complete as early as possible. In our problem, our goal is minimize the following objective:\n",
    "                                            S= $t_f$ ∗log(1+ $n_e$).\n",
    "                             \n",
    "                                           \n",
    "where  $t_f$  is the last minute the final toy is complete.\n",
    "       $n_e$ is the number of unique elves that were needed to build the toys.\n",
    "\n",
    "                       \n",
    "**This is a MINLP model.**  \n",
    "\n",
    "In this problem, we attempted to solve the problem using the following MINLP solvers: CouenneNLSolver(),OsilCouenneSolver(),OsilBonminSolver(),BonminNLSolver(). Unfortunately, however, we were unable to resolve many dependency issues, and even for those solvers which we were able to run, they were unable to find a solution and failed.\n",
    "\n",
    "As a proxy to this nonlinear dependent objective, we modeled this problem as a trade-off between number of elves and earliest completion time, as discussed in class. This reduces the problem again to an **MILP** problem, which we can solve.\n",
    "\n",
    "\n",
    "#### Objective: ####\n",
    "\n",
    "minimize $t_f$ + $\\lambda n_e$\n",
    "\n",
    "#### Standard Form ####\n",
    "$$\n",
    "\\begin{aligned}\n",
    "\\text{minimize} \\qquad & z + \\lambda n_e  \\\\\n",
    "\\text{subject to} \\qquad & ...\n",
    "\\end{aligned}\n",
    "$$\n"
   ]
  },
  {
   "cell_type": "markdown",
   "metadata": {
    "collapsed": true
   },
   "source": [
    "## 3. Implementations and Solutions ##\n",
    "\n",
    "The following implementations use JuMP, Gurobi, and other solvers specific to Mixed Integer Linear Programming."
   ]
  },
  {
   "cell_type": "markdown",
   "metadata": {
    "collapsed": true
   },
   "source": [
    "### 3.A. Implementation for 2.A ###\n"
   ]
  },
  {
   "cell_type": "code",
   "execution_count": 4,
   "metadata": {
    "collapsed": false
   },
   "outputs": [
    {
     "data": {
      "text/plain": [
       "noElfModel (generic function with 1 method)"
      ]
     },
     "execution_count": 4,
     "metadata": {},
     "output_type": "execute_result"
    }
   ],
   "source": [
    "using JuMP, Gurobi\n",
    "\n",
    "function noElfModel(Duration, Arrival_time)\n",
    "    # Duration: Duration of each toy.\n",
    "    # Arrive_time: The arrive time of every toy.\n",
    "\n",
    "    # return: (z) where\n",
    "    # 1. z is the earliest completion time \n",
    "    \n",
    "    num = length(Duration) # number of toys\n",
    "    \n",
    "    m = Model(solver = GurobiSolver(OutputFlag=0))\n",
    "    \n",
    "    @variable(m, z)                                            # the earliest completion time \n",
    "    @variable(m, s[1:num])                                     # the start time of every toy\n",
    "    \n",
    "    for i = 1:num\n",
    "        @constraint(m, s[i] >= Arrival_time[i])                # starting doing a toy should after it arrives \n",
    "    end\n",
    "\n",
    "    for i=1:num\n",
    "        @constraint(m, s[i]+ Duration[i] <= z)\n",
    "    end\n",
    "                            \n",
    "    @objective(m, Min, z)\n",
    "                            \n",
    "    status = solve(m)\n",
    "    \n",
    "    return (getvalue(z))\n",
    "end"
   ]
  },
  {
   "cell_type": "markdown",
   "metadata": {
    "collapsed": true
   },
   "source": [
    "### 3.B. Implementation for 2.B ###"
   ]
  },
  {
   "cell_type": "code",
   "execution_count": 5,
   "metadata": {
    "collapsed": false
   },
   "outputs": [
    {
     "data": {
      "text/plain": [
       "minFinishTimeConflict (generic function with 1 method)"
      ]
     },
     "execution_count": 5,
     "metadata": {},
     "output_type": "execute_result"
    }
   ],
   "source": [
    "using JuMP, Gurobi\n",
    "\n",
    "function minFinishTimeConflict(Duration, Arrival_time, num_elves, Upper)\n",
    "    # Duration: Duration of each toy.\n",
    "    # Arrive_time: The arrive time of every toy.\n",
    "    # num_elf: the number of elves which will assign works.\n",
    "    # Upper: a common upper bound used to ensure toys on the same elf donot overlap\n",
    "    \n",
    "    # return: (s,x,z) where\n",
    "    # s is the starting times of each toy\n",
    "    # x is which elf is working on which toy\n",
    "    # z is the earliest completion time \n",
    "    \n",
    "    num = length(Duration) # number of toys\n",
    "    \n",
    "    m = Model(solver = GurobiSolver(OutputFlag=0))\n",
    "    ########################################## Variables #########################################   \n",
    "    \n",
    "    @variable(m, x[1:num, 1:num_elves], Bin)                        # whether toy i is scheduled on elf j\n",
    "    @variable(m, z)                                               # the earliest completion time \n",
    "    @variable(m, s[1:num])                                        # the start time of every toy\n",
    "    @variable(m, u[1:num, 1:num, 1:num_elves], Bin)                 # whether both toy i,k are scheduled to elf j\n",
    "    @variable(m, v[1:num, 1:num], Bin)                            # whether toy i completes before toy k\n",
    "    @variable(m, r[1:num, 1:num], Bin)                            # whether toy k completes before toy i\n",
    "    ########################################## Constraints #########################################\n",
    "    for i = 1:num\n",
    "        @constraint(m, s[i] >= Arrival_time[i])                   # starting doing a toy should after it arrives \n",
    "    end\n",
    "    \n",
    "    for i=1:num \n",
    "        @constraint(m, sum(x[i,j]for j=1:num_elves) == 1)           # Only 1 elf should build each toy\n",
    "    end\n",
    "                \n",
    "    for i=1:num\n",
    "        @constraint(m, s[i]+ Duration[i] <= z)                    # We want to minimize the time needed for all toys\n",
    "    end\n",
    "     \n",
    "    \n",
    "    ####################################### handle the conflict constraints #########################################\n",
    "    for i=1:num-1\n",
    "        for k=i+1:num\n",
    "            for j=1:num_elves\n",
    "                \n",
    "                @constraint(m, x[i,j] >= u[i,k,j])              # whether toys i,k are scheduled to the same elf j\n",
    "                @constraint(m, x[k,j] >= u[i,k,j])\n",
    "                @constraint(m, x[i,j] + x[k,j] <= u[i,k,j] + 1)\n",
    "            end\n",
    "        end\n",
    "    end\n",
    "    \n",
    "    for i=1:num\n",
    "        for k=1:num \n",
    "            \n",
    "            @constraint(m, s[i]+Duration[i]-s[k] <= Upper*(1-v[i,k]))       # whether toy i completes before toy k \n",
    "            @constraint(m, s[k]+Duration[k]-s[i] <= Upper*(1-r[i,k]))       # whether toy k completes before toy i\n",
    "        end\n",
    "    end\n",
    "    \n",
    "    for i=1:num\n",
    "        for k=1:num \n",
    "            @constraint(m, sum(u[i,k,j]for j=1:num_elves) <= v[i,k] + r[i,k])# if toy i,k on same elf, toy i completes before toy k,\n",
    "                                                                           # OR toy k completes before toy i\n",
    "        end\n",
    "    end\n",
    "    \n",
    "    @objective(m, Min, z)\n",
    "                            \n",
    "    status = solve(m)\n",
    "    return (getvalue(x),getvalue(s),getvalue(z))\n",
    "end"
   ]
  },
  {
   "cell_type": "code",
   "execution_count": 6,
   "metadata": {
    "collapsed": false
   },
   "outputs": [
    {
     "data": {
      "text/plain": [
       "minFinishTimeConflictCBC (generic function with 1 method)"
      ]
     },
     "execution_count": 6,
     "metadata": {},
     "output_type": "execute_result"
    }
   ],
   "source": [
    "using JuMP, Cbc\n",
    "\n",
    "function minFinishTimeConflictCBC(Duration, Arrival_time, num_elves, Upper)\n",
    "    # Duration: Duration of each toy.\n",
    "    # Arrive_time: The arrive time of every toy.\n",
    "    # num_elf: the number of elves which will assign works.\n",
    "    # Upper: a common upper bound used to ensure toys on the same elf donot overlap\n",
    "    \n",
    "    # return: (s,x,z) where\n",
    "    # s is the starting times of each toy\n",
    "    # x is which elf is working on which toy\n",
    "    # z is the earliest completion time \n",
    "    \n",
    "    num = length(Duration) # number of toys\n",
    "    \n",
    "    m = Model(solver = CbcSolver())\n",
    "    ########################################## Variables #########################################   \n",
    "    \n",
    "    @variable(m, x[1:num, 1:num_elves], Bin)                        # whether toy i is scheduled on elf j\n",
    "    @variable(m, z)                                               # the earliest completion time \n",
    "    @variable(m, s[1:num])                                        # the start time of every toy\n",
    "    @variable(m, u[1:num, 1:num, 1:num_elves], Bin)                 # whether both toy i,k are scheduled to elf j\n",
    "    @variable(m, v[1:num, 1:num], Bin)                            # whether toy i completes before toy k\n",
    "    @variable(m, r[1:num, 1:num], Bin)                            # whether toy k completes before toy i\n",
    "    ########################################## Constraints #########################################\n",
    "    for i = 1:num\n",
    "        @constraint(m, s[i] >= Arrival_time[i])                   # starting doing a toy should after it arrives \n",
    "    end\n",
    "    \n",
    "    for i=1:num \n",
    "        @constraint(m, sum(x[i,j]for j=1:num_elves) == 1)           # Only 1 elf should build each toy\n",
    "    end\n",
    "                \n",
    "    for i=1:num\n",
    "        @constraint(m, s[i]+ Duration[i] <= z)                    # We want to minimize the time needed for all toys\n",
    "    end\n",
    "     \n",
    "    \n",
    "    ####################################### handle the conflict constraints #########################################\n",
    "    for i=1:num-1\n",
    "        for k=i+1:num\n",
    "            for j=1:num_elves\n",
    "                \n",
    "                @constraint(m, x[i,j] >= u[i,k,j])              # whether toys i,k are scheduled to the same elf j\n",
    "                @constraint(m, x[k,j] >= u[i,k,j])\n",
    "                @constraint(m, x[i,j] + x[k,j] <= u[i,k,j] + 1)\n",
    "            end\n",
    "        end\n",
    "    end\n",
    "    \n",
    "    for i=1:num\n",
    "        for k=1:num \n",
    "            \n",
    "            @constraint(m, s[i]+Duration[i]-s[k] <= Upper*(1-v[i,k]))       # whether toy i completes before toy k \n",
    "            @constraint(m, s[k]+Duration[k]-s[i] <= Upper*(1-r[i,k]))       # whether toy k completes before toy i\n",
    "        end\n",
    "    end\n",
    "    \n",
    "    for i=1:num\n",
    "        for k=1:num \n",
    "            @constraint(m, sum(u[i,k,j]for j=1:num_elves) <= v[i,k] + r[i,k])# if toy i,k on same elf, toy i completes before toy k,\n",
    "                                                                           # OR toy k completes before toy i\n",
    "        end\n",
    "    end\n",
    "    \n",
    "    @objective(m, Min, z)\n",
    "                            \n",
    "    status = solve(m)\n",
    "    return (getvalue(x),getvalue(s),getvalue(z))\n",
    "end"
   ]
  },
  {
   "cell_type": "markdown",
   "metadata": {
    "collapsed": true
   },
   "source": [
    "### 3.C. Implementation for 2.C ###"
   ]
  },
  {
   "cell_type": "markdown",
   "metadata": {
    "collapsed": true
   },
   "source": [
    "Here we build on our solution from Section 3B. By adding the additional day variable and the workshop hour constraints, we fully specify the workshop constraints outlined in section 2D."
   ]
  },
  {
   "cell_type": "code",
   "execution_count": 7,
   "metadata": {
    "collapsed": false
   },
   "outputs": [
    {
     "data": {
      "text/plain": [
       "minFinishTimeConflictDays (generic function with 1 method)"
      ]
     },
     "execution_count": 7,
     "metadata": {},
     "output_type": "execute_result"
    }
   ],
   "source": [
    "using JuMP, Gurobi\n",
    "\n",
    "function minFinishTimeConflictDays(Duration, Arrival_time, num_elves, Upper, clos_hr)\n",
    "    # Duration: Duration of each toy.\n",
    "    # Arrive_time: The arrive time of every toy.\n",
    "    # num_elf: the number of elves which will assign works.\n",
    "    # Upper: a common upper bound used to ensure toys on the same elf donot overlap\n",
    "    \n",
    "    # return: (s,x,z,d) where\n",
    "    # s is the starting times of each toy\n",
    "    # x is which elf is working on which toy\n",
    "    # z is the earliest completion time \n",
    "    # d is earliest day completion time\n",
    "    \n",
    "    num = length(Duration) # number of toys\n",
    "    \n",
    "    m = Model(solver = GurobiSolver(OutputFlag=0))\n",
    "    ########################################## Variables #########################################   \n",
    "    \n",
    "    @variable(m, x[1:num, 1:num_elves], Bin)                        # whether toy i is scheduled on elf j\n",
    "    @variable(m, z)                                               # the earliest completion time \n",
    "    @variable(m, s[1:num])                                        # the start time of every toy\n",
    "    @variable(m, u[1:num, 1:num, 1:num_elves], Bin)                 # whether both toy i,k are scheduled to elf j\n",
    "    @variable(m, v[1:num, 1:num], Bin)                            # whether toy i completes before toy k\n",
    "    @variable(m, r[1:num, 1:num], Bin)                            # whether toy k completes before toy i\n",
    "    ########################################## Constraints #########################################\n",
    "    for i = 1:num\n",
    "        @constraint(m, s[i] >= Arrival_time[i])                   # starting doing a toy should after it arrives \n",
    "    end\n",
    "    \n",
    "    for i=1:num \n",
    "        @constraint(m, sum(x[i,j]for j=1:num_elves) == 1)           # Only 1 elf should build each toy\n",
    "    end\n",
    "                \n",
    "    for i=1:num\n",
    "        @constraint(m, s[i]+ Duration[i] <= z)                    # We want to minimize the time needed for all toys\n",
    "    end\n",
    "    \n",
    "##### WORKSHOP CONSTRAINTS #####\n",
    "    @variable(m, d[1:num], Int) # day toy was built\n",
    "    \n",
    "    open_time = 9*60; # Workshop opens at 9AM\n",
    "    clos_time = clos_hr*60; # Workshop closes at 19:00 (7PM)\n",
    "        \n",
    "    # must be built during wksp hrs\n",
    "    for i = 1:num\n",
    "        @constraint(m, s[i] >=  open_time + 60*24*(d[i] - 1))\n",
    "        @constraint(m, s[i] + Duration[i] <= clos_time + 60*24*(d[i] - 1));\n",
    "    end\n",
    "##### WORKSHOP CONSTRAINTS #####\n",
    "                \n",
    "    \n",
    "    ####################################### handle the conflict constraints #########################################\n",
    "    for i=1:num-1\n",
    "        for k=i+1:num\n",
    "            for j=1:num_elves\n",
    "                \n",
    "                @constraint(m, x[i,j] >= u[i,k,j])              # whether toys i,k are scheduled to the same elf j\n",
    "                @constraint(m, x[k,j] >= u[i,k,j])\n",
    "                @constraint(m, x[i,j] + x[k,j] <= u[i,k,j] + 1)\n",
    "            end\n",
    "        end\n",
    "    end\n",
    "    \n",
    "    for i=1:num\n",
    "        for k=1:num \n",
    "            \n",
    "            @constraint(m, s[i]+Duration[i]-s[k] <= Upper*(1-v[i,k]))       # whether toy i completes before toy k \n",
    "            @constraint(m, s[k]+Duration[k]-s[i] <= Upper*(1-r[i,k]))       # whether toy k completes before toy i\n",
    "        end\n",
    "    end\n",
    "    \n",
    "    for i=1:num\n",
    "        for k=1:num \n",
    "            @constraint(m, sum(u[i,k,j]for j=1:num_elves) <= v[i,k] + r[i,k])# if toy i,k on same elf, toy i completes before toy k,\n",
    "                                                                           # OR toy k completes before toy i\n",
    "        end\n",
    "    end\n",
    "    \n",
    "    @objective(m, Min, z)\n",
    "                            \n",
    "    status = solve(m)\n",
    "    return (getvalue(x),getvalue(s),getvalue(z), getvalue(d))\n",
    "end"
   ]
  },
  {
   "cell_type": "markdown",
   "metadata": {
    "collapsed": true
   },
   "source": [
    "### 3.D. Implementation for 2.D ###"
   ]
  },
  {
   "cell_type": "code",
   "execution_count": 8,
   "metadata": {
    "collapsed": false
   },
   "outputs": [
    {
     "data": {
      "text/plain": [
       "Balance (generic function with 1 method)"
      ]
     },
     "execution_count": 8,
     "metadata": {},
     "output_type": "execute_result"
    }
   ],
   "source": [
    "using JuMP, Gurobi\n",
    "\n",
    "function Balance(Duration, Arrive_time, num_elf, Upper, λ)\n",
    "    # Duration: Duration of each toy.\n",
    "    # Arrive_time: The arrive time of every toy.\n",
    "    # num_elf: the number of elves which will assign works.\n",
    "    # Upper: a common upper bound used to ensure toys on the same elf donot overlap\n",
    "    # λ ： parameter for trade off ending time and number of elf used \n",
    "    \n",
    "    # return: (z, usedelf) where\n",
    "    # z is the earliest completion time \n",
    "    # usedelf is the elves we actually used\n",
    "    num = length(Duration)                                                      # number of toys\n",
    "    m = Model(solver = GurobiSolver(OutputFlag=0))\n",
    "   \n",
    "    \n",
    "    ########################################## Variables #########################################   \n",
    "    \n",
    "    \n",
    "    \n",
    "    @variable(m, x[1:num, 1:num_elf], Bin)                 # whether toy i is scheduled on elf j\n",
    "    @variable(m, z)                                        # the earliest completion time\n",
    "    @variable(m, s[1:num])                                 # the start time of every toy\n",
    "    @variable(m, u[1:num, 1:num, 1:num_elf], Bin)          # whether both toy i,k are scheduled to elf j\n",
    "    @variable(m, v[1:num, 1:num], Bin)                     # whether toy i completes before toy k\n",
    "    @variable(m, r[1:num, 1:num], Bin)                     # whether toy k completes before toy i\n",
    "    @variable(m,y[1:num_elf],Bin)                          # whether elf j is used\n",
    "    @variable(m,usedelf)                                   # sum of elves j is used\n",
    "    ########################################## Constraints #########################################\n",
    "    for j=1:num_elf \n",
    "        @constraint(m, sum(x[i,j]for i=1:num) <= num*y[j]) # if elf j is assigned at least one toy, then it is used\n",
    "    end\n",
    "    for j=1:num_elf \n",
    "        @constraint(m, sum(y[j]for j =1:num_elf) == usedelf)\n",
    "    end\n",
    "    \n",
    "    for i = 1:num\n",
    "        @constraint(m, s[i] >= Arrive_time[i])             # starting doing a toy should after it arrives \n",
    "    end\n",
    "    \n",
    "    for i=1:num \n",
    "        @constraint(m, sum(x[i,j]for j=1:num_elf) == 1)\n",
    "    end\n",
    "                \n",
    "    for i=1:num\n",
    "        @constraint(m, s[i]+ Duration[i] <= z)\n",
    "    end\n",
    "     \n",
    "    \n",
    "      #########################handle the coconflict  ##############################\n",
    "    for i=1:num-1\n",
    "        for k=i+1:num\n",
    "            for j=1:num_elf\n",
    "                @constraint(m, x[i,j] >= u[i,k,j])      # whether toys i,k are scheduled to the same elf j\n",
    "                @constraint(m, x[k,j] >= u[i,k,j])\n",
    "                @constraint(m, x[i,j] + x[k,j] <= u[i,k,j] + 1)\n",
    "            end\n",
    "        end\n",
    "    end\n",
    "    \n",
    "    for i=1:num\n",
    "        for k=1:num \n",
    "            @constraint(m, s[i]+Duration[i]-s[k] <= Upper*(1-v[i,k]))   # whether toy i completes before toy k \n",
    "            @constraint(m, s[k]+Duration[k]-s[i] <= Upper*(1-r[i,k]))   # whether toy k completes before toy i\n",
    "        end\n",
    "    end\n",
    "    \n",
    "    for i=1:num\n",
    "        for k=1:num \n",
    "            @constraint(m, sum(u[i,k,j] for j=1:num_elf) <= v[i,k] + r[i,k]) # if toy i,k on same elf, toy i completes before toy k,\n",
    "                                                                             # OR toy k completes before toy \n",
    "        end\n",
    "    end\n",
    "    \n",
    "    @objective(m, Min, z+λ*usedelf)                                               \n",
    "                            \n",
    "    status = solve(m)\n",
    "    return (getvalue(z),getvalue(usedelf))\n",
    "end"
   ]
  },
  {
   "cell_type": "markdown",
   "metadata": {},
   "source": [
    "### 3.E. Schedule Plotting  ###"
   ]
  },
  {
   "cell_type": "code",
   "execution_count": 9,
   "metadata": {
    "collapsed": false
   },
   "outputs": [],
   "source": [
    "using PyPlot\n",
    "\n",
    "function schedulePlot(X, S, Z, Duration)\n",
    "    \n",
    "    num_elves = size(X,2);\n",
    "    ntoys = size(X,1);\n",
    "    \n",
    "    elf_ind = (X .> 0.5)\n",
    "    labels = 1:num_elves;\n",
    "    t = 1:Z;\n",
    "    y = zeros(num_elves,Int64(round(Z)));\n",
    "    \n",
    "    Xstart = zeros(Int64(round(Z)));\n",
    "    Xend = zeros(Int64(round(Z)));\n",
    "    Ystart = zeros(Int64(round(Z)));\n",
    "    Yend = zeros(Int64(round(Z)));\n",
    "\n",
    "    for j in 1:num_elves   \n",
    "        for i in 1:ntoys\n",
    "            if elf_ind[i,j] == true\n",
    "                Xstart[i] = Int64(round(S[i])); #- 60*24*(D_d[i]-1)\n",
    "                Xend[i] = Int64(round(S[i]+Duration[i]));\n",
    "                Ystart[i] = j;\n",
    "                Yend[i] = j;\n",
    "            end\n",
    "        end\n",
    "    end\n",
    "\n",
    "    if num_elves > 10\n",
    "        width = Int64(floor(1/num_elves)) + 1\n",
    "    else\n",
    "        width = 30;\n",
    "    end\n",
    "    plot([Xstart,Xend],[Ystart,Yend], lw = width);\n",
    "    # get the current axis argument of the plot\n",
    "    ax = gca()\n",
    "\n",
    "    # add new limits from 0 - numelves\n",
    "    ax[:set_ylim]([0,num_elves+1]) \n",
    "end"
   ]
  },
  {
   "cell_type": "markdown",
   "metadata": {
    "collapsed": true
   },
   "source": [
    "## 4. Results and Discussion ##\n",
    "\n",
    "\n",
    "### 4.A. Parts A,B, and C ###\n",
    "\n",
    "#### Part A"
   ]
  },
  {
   "cell_type": "code",
   "execution_count": 10,
   "metadata": {
    "collapsed": false
   },
   "outputs": [
    {
     "name": "stdout",
     "output_type": "stream",
     "text": [
      "All tasks are completed by 129.0\n",
      "Largest value of (Arrival_time + Duration): 129.0\n"
     ]
    }
   ],
   "source": [
    "# Minimize te time to complete all the toys\n",
    "(A_z) = noElfModel(Duration, Arrival_time);\n",
    "println(\"All tasks are completed by \", A_z);\n",
    "println(\"Largest value of (Arrival_time + Duration): \",maximum(Arrival_time+Duration));"
   ]
  },
  {
   "cell_type": "markdown",
   "metadata": {},
   "source": [
    "This validates our simplistic model. While this does not answer any interesting scheduling problem, it serves as a base for the follow implementations. We also note that because this is an **LP**, we need not use any sophisticated solver. Running this on relatively large datasets should not be an issue for most solvers."
   ]
  },
  {
   "cell_type": "markdown",
   "metadata": {},
   "source": [
    "#### Part B"
   ]
  },
  {
   "cell_type": "markdown",
   "metadata": {},
   "source": [
    "Again we can test this method by including more elves than toys. We expect that the completion time will be largest Arrival Time + Duration."
   ]
  },
  {
   "cell_type": "code",
   "execution_count": 11,
   "metadata": {
    "collapsed": false
   },
   "outputs": [
    {
     "name": "stdout",
     "output_type": "stream",
     "text": [
      "All tasks are completed by: 59.0\n",
      "Largest value of (Arrival_time + Duration): 59.0\n"
     ]
    }
   ],
   "source": [
    "num_elves = 100;\n",
    "ntoys = 10;\n",
    "Upper = sum(Duration) \n",
    "(B_x, B_s, B_z) = minFinishTimeConflict(Duration[1:ntoys], Arrival_time[1:ntoys], num_elves, Upper)\n",
    "println(\"All tasks are completed by: \", B_z);\n",
    "println(\"Largest value of (Arrival_time + Duration): \",maximum(Arrival_time[1:ntoys]+Duration[1:ntoys]));"
   ]
  },
  {
   "cell_type": "markdown",
   "metadata": {},
   "source": [
    "We can also begin to look at scheduling plots, to see how elves are distributing work. The following function plots the schedules of each elf, with each color representing a different toy."
   ]
  },
  {
   "cell_type": "code",
   "execution_count": 12,
   "metadata": {
    "collapsed": false,
    "scrolled": false
   },
   "outputs": [
    {
     "data": {
      "image/png": "[encoded data removed]",
      "text/plain": [
       "PyPlot.Figure(PyObject <matplotlib.figure.Figure object at 0x00000000202375F8>)"
      ]
     },
     "metadata": {},
     "output_type": "display_data"
    }
   ],
   "source": [
    "schedulePlot(B_x, B_s, B_z, Duration[1:ntoys]);"
   ]
  },
  {
   "cell_type": "markdown",
   "metadata": {},
   "source": [
    "This plot reflects our intuition that all toys begin building as soon as possible because we have an excess number of resources."
   ]
  },
  {
   "cell_type": "markdown",
   "metadata": {},
   "source": [
    "If we restrict the number of elves to less than the number of toys, we should see an optimal splitting of work:"
   ]
  },
  {
   "cell_type": "code",
   "execution_count": 13,
   "metadata": {
    "collapsed": false
   },
   "outputs": [
    {
     "data": {
      "image/png": "[encoded data removed]",
      "text/plain": [
       "PyPlot.Figure(PyObject <matplotlib.figure.Figure object at 0x000000002027FB70>)"
      ]
     },
     "metadata": {},
     "output_type": "display_data"
    },
    {
     "name": "stdout",
     "output_type": "stream",
     "text": [
      "All tasks are completed by: 59.0\n"
     ]
    }
   ],
   "source": [
    "num_elves = 4;\n",
    "ntoys = 10;\n",
    "Upper = sum(Duration) \n",
    "(B_x, B_s, B_z) = minFinishTimeConflict(Duration[1:ntoys], Arrival_time[1:ntoys], num_elves, Upper)\n",
    "println(\"All tasks are completed by: \", B_z);\n",
    "schedulePlot(B_x, B_s, B_z, Duration[1:ntoys]);"
   ]
  },
  {
   "cell_type": "markdown",
   "metadata": {},
   "source": [
    "As we reduce the number of elves further we can see the time to completion increases. We can also observe that an elf may not be working, because the rate-determining step is already being worked on, and there is nothing else that can be done."
   ]
  },
  {
   "cell_type": "code",
   "execution_count": 14,
   "metadata": {
    "collapsed": false
   },
   "outputs": [
    {
     "name": "stdout",
     "output_type": "stream",
     "text": [
      "All tasks are completed by: "
     ]
    },
    {
     "data": {
      "image/png": "[encoded data removed]",
      "text/plain": [
       "PyPlot.Figure(PyObject <matplotlib.figure.Figure object at 0x00000000208E1320>)"
      ]
     },
     "metadata": {},
     "output_type": "display_data"
    },
    {
     "name": "stdout",
     "output_type": "stream",
     "text": [
      "71.0\n"
     ]
    }
   ],
   "source": [
    "num_elves = 3;\n",
    "ntoys = 10;\n",
    "Upper = sum(Duration) \n",
    "(B_x, B_s, B_z) = minFinishTimeConflict(Duration[1:ntoys], Arrival_time[1:ntoys], num_elves, Upper)\n",
    "println(\"All tasks are completed by: \", B_z);\n",
    "schedulePlot(B_x, B_s, B_z, Duration[1:ntoys]);"
   ]
  },
  {
   "cell_type": "code",
   "execution_count": 15,
   "metadata": {
    "collapsed": false,
    "scrolled": false
   },
   "outputs": [
    {
     "name": "stdout",
     "output_type": "stream",
     "text": [
      "All tasks are completed by: "
     ]
    },
    {
     "data": {
      "image/png": "[encoded data removed]",
      "text/plain": [
       "PyPlot.Figure(PyObject <matplotlib.figure.Figure object at 0x0000000020168320>)"
      ]
     },
     "metadata": {},
     "output_type": "display_data"
    },
    {
     "name": "stdout",
     "output_type": "stream",
     "text": [
      "105.0\n"
     ]
    }
   ],
   "source": [
    "num_elves = 2;\n",
    "ntoys = 10;\n",
    "Upper = sum(Duration) \n",
    "(B_x, B_s, B_z) = minFinishTimeConflict(Duration[1:ntoys], Arrival_time[1:ntoys], num_elves, Upper)\n",
    "println(\"All tasks are completed by: \", B_z);\n",
    "schedulePlot(B_x, B_s, B_z, Duration[1:ntoys]);"
   ]
  },
  {
   "cell_type": "markdown",
   "metadata": {},
   "source": [
    "#### Part C"
   ]
  },
  {
   "cell_type": "markdown",
   "metadata": {
    "collapsed": true
   },
   "source": [
    "Because we are only running for a small number of toys, to see the effect the workshop times have on the final output we can adjust the workshop close time to be only 1 hour. We also need to adjust our upper bound, as we are now spanning a much larger range of times. The large white gaps in the figures below indicate hours during which work cannot occur, either because the workshop is closed or a toy cannot be started and completed in the time left."
   ]
  },
  {
   "cell_type": "code",
   "execution_count": 16,
   "metadata": {
    "collapsed": false
   },
   "outputs": [
    {
     "name": "stdout",
     "output_type": "stream",
     "text": [
      "All tasks are completed by day: "
     ]
    },
    {
     "data": {
      "image/png": "[encoded data removed]",
      "text/plain": [
       "PyPlot.Figure(PyObject <matplotlib.figure.Figure object at 0x0000000024AD0DD8>)"
      ]
     },
     "metadata": {},
     "output_type": "display_data"
    },
    {
     "name": "stdout",
     "output_type": "stream",
     "text": [
      "4.0\n"
     ]
    }
   ],
   "source": [
    "num_elves = 1;\n",
    "ntoys = 10;\n",
    "clos_hr = 10; # opens at 9AM\n",
    "Upper = sum(Duration)*10 # a toy every hour, every day\n",
    "(D_x, D_s, D_z, D_d) = minFinishTimeConflictDays(Duration[1:ntoys], Arrival_time[1:ntoys], num_elves, Upper, clos_hr);\n",
    "println(\"All tasks are completed by day: \", maximum(D_d));\n",
    "schedulePlot(D_x, D_s, D_z, Duration[1:ntoys]);"
   ]
  },
  {
   "cell_type": "code",
   "execution_count": 17,
   "metadata": {
    "collapsed": false
   },
   "outputs": [
    {
     "name": "stdout",
     "output_type": "stream",
     "text": [
      "All tasks are completed by day: "
     ]
    },
    {
     "data": {
      "image/png": "[encoded data removed]",
      "text/plain": [
       "PyPlot.Figure(PyObject <matplotlib.figure.Figure object at 0x0000000024A77668>)"
      ]
     },
     "metadata": {},
     "output_type": "display_data"
    },
    {
     "name": "stdout",
     "output_type": "stream",
     "text": [
      "2.0\n"
     ]
    }
   ],
   "source": [
    "num_elves = 2;\n",
    "ntoys = 10;\n",
    "clos_hr = 10; # opens at 9AM\n",
    "Upper = sum(Duration)*10 # a toy every hour, every day\n",
    "(D_x, D_s, D_z, D_d) = minFinishTimeConflictDays(Duration[1:ntoys], Arrival_time[1:ntoys], num_elves, Upper, clos_hr);\n",
    "println(\"All tasks are completed by day: \", maximum(D_d));\n",
    "schedulePlot(D_x, D_s, D_z, Duration[1:ntoys]);"
   ]
  },
  {
   "cell_type": "code",
   "execution_count": 18,
   "metadata": {
    "collapsed": false,
    "scrolled": false
   },
   "outputs": [
    {
     "data": {
      "image/png": "[encoded data removed]",
      "text/plain": [
       "PyPlot.Figure(PyObject <matplotlib.figure.Figure object at 0x0000000033BEC7F0>)"
      ]
     },
     "metadata": {},
     "output_type": "display_data"
    },
    {
     "name": "stdout",
     "output_type": "stream",
     "text": [
      "All tasks are completed by day: 1.0\n"
     ]
    }
   ],
   "source": [
    "num_elves = 4;\n",
    "ntoys = 10;\n",
    "clos_hr = 10; # opens at 9AM\n",
    "Upper = sum(Duration)*10 # a toy every hour, every day\n",
    "(D_x, D_s, D_z, D_d) = minFinishTimeConflictDays(Duration[1:ntoys], Arrival_time[1:ntoys], num_elves, Upper, clos_hr);\n",
    "println(\"All tasks are completed by day: \", maximum(D_d));\n",
    "schedulePlot(D_x, D_s, D_z, Duration[1:ntoys]);"
   ]
  },
  {
   "cell_type": "markdown",
   "metadata": {},
   "source": [
    "### 4.B. Part D: Pareto Tradeoffs ###"
   ]
  },
  {
   "cell_type": "markdown",
   "metadata": {},
   "source": [
    "We can plot the Pareto Curve as a function of $\\lambda$. Below is a version for a maximum of 10 elves working on a total of 10 toys."
   ]
  },
  {
   "cell_type": "code",
   "execution_count": null,
   "metadata": {
    "collapsed": false,
    "scrolled": false
   },
   "outputs": [],
   "source": [
    "ntoys = 10\n",
    "max_elves = 10\n",
    "λ = [10.0^i for i=-4:1:5]\n",
    "Upper = sum(Duration[1:ntoys])\n",
    "\n",
    "min_time = zeros(size(λ,1))\n",
    "usedelf = zeros(size(λ,1))\n",
    "\n",
    "for i = 1:10\n",
    "    (min_time[i], usedelf[i]) = Balance(Duration[1:ntoys], Arrival_time[1:ntoys], max_elves, Upper, λ[i]);\n",
    "end"
   ]
  },
  {
   "cell_type": "code",
   "execution_count": null,
   "metadata": {
    "collapsed": false
   },
   "outputs": [],
   "source": [
    "using PyPlot\n",
    "fig = figure(figsize=(7,5))\n",
    "ylabel(\"Earliest Completion Time\")\n",
    "xlabel(\"Number of elves\")\n",
    "title(\"The optimal solution to balance time and resource\")\n",
    "plot(usedelf, min_time, \"ro-\")\n",
    ";"
   ]
  },
  {
   "cell_type": "markdown",
   "metadata": {},
   "source": [
    "Because we can only run for a small number of toys, the Pareto curve is extremely piecewise. With additional time and computation power, however, we could imagine picking an optimal point on the Paret curve based on many simulations."
   ]
  },
  {
   "cell_type": "markdown",
   "metadata": {},
   "source": [
    "### 4.C. Solver Comparisons ###"
   ]
  },
  {
   "cell_type": "markdown",
   "metadata": {},
   "source": [
    "While testing with different solvers and formulations, we found that Gurobi is significantly faster in finding solutions than Cbc, the only other solver we were able to consistently run. Below is a timing analysis comparing the two over 30 runs of the same problem formulation."
   ]
  },
  {
   "cell_type": "code",
   "execution_count": null,
   "metadata": {
    "collapsed": false
   },
   "outputs": [],
   "source": [
    "nNelves = 10;\n",
    "nRuns = 30;\n",
    "ntoys = 5;\n",
    "Upper = sum(Duration[1:ntoys]) \n",
    "solvers = [\"Gurobi\", \"Cbc\"];\n",
    "times = zeros(size(solvers,1),nRuns,nNelves);\n",
    "for e = 1:nNelves\n",
    "    for t = 1:nRuns\n",
    "        tic();\n",
    "        (D_z,D_k) = minFinishTimeConflict(Duration[1:ntoys], Arrival_time[1:ntoys], e, Upper)\n",
    "        times[1,t,e] = toq();\n",
    "        tic();\n",
    "        (D_z,D_k) = minFinishTimeConflictCBC(Duration[1:ntoys], Arrival_time[1:ntoys], e, Upper)\n",
    "        times[2,t,e] = toq();\n",
    "    end\n",
    "end\n",
    "means = squeeze(mean(times,2),2)';\n",
    "stds = squeeze(std(times,2),2)';"
   ]
  },
  {
   "cell_type": "code",
   "execution_count": null,
   "metadata": {
    "collapsed": false
   },
   "outputs": [],
   "source": [
    "errorbar(1:nNelves, means[:,1], yerr = [means[:,1] - stds[:,1], means[:,1] + stds[:,1]]);\n",
    "hold(true);\n",
    "errorbar(1:nNelves, means[:,2], yerr = [means[:,2] - stds[:,2], means[:,2] + stds[:,2]]);\n",
    "legend(solvers, loc = \"upper right\");\n",
    "ylabel(\"Time to Solve (seconds)\")\n",
    "xlabel(\"Number of elves\")\n",
    "title(\"Gurobi vs. Cbc\")\n",
    "hold(false);"
   ]
  },
  {
   "cell_type": "markdown",
   "metadata": {},
   "source": [
    "A significant reason for this large gap seems to be that Gurobi takes significant advantage of multi-core systems. On a research machine with 24 cores, Gurobi is able to take full advantage of multiple cores for its search procedures: usage for all cores jumps to almost 100%. We also observed that this gap acts as expected (reduced) when compared to running on machines with fewer cores (laptops)."
   ]
  },
  {
   "cell_type": "markdown",
   "metadata": {},
   "source": [
    "### 4.D.-Productivity-Modeling ###"
   ]
  },
  {
   "cell_type": "markdown",
   "metadata": {},
   "source": [
    "The most difficult part of modeling this problem is the dynamic productivity of each elf. As described in the Introduction, the productivity of an elf increases as they complete toys during workshop times, and decreases as they work during unsanctioned workshop hours (overtime). Even modeling overtime in our formulations is difficult, as we already have an $n^2$ number of variables. Below we attempted to begin modeling these constraints at a high level (pseudocode), but were unable to find a reasonable method of implementing them, especially with the variable and constraint explosion."
   ]
  },
  {
   "cell_type": "markdown",
   "metadata": {},
   "source": [
    "```\n",
    "for i = 1:8760 (total number of hours in 1 year) // Productivity changes only over each hour\n",
    "\tfor j = 1:nElves\n",
    "     \t\tp[i:j] = 1\n",
    "\tend\n",
    "end;\n",
    "for j = 1:nElves\n",
    "\tfor i = 1:nToys\n",
    "\t\tif x[j,i] = 1 // mean elf j work on toy i\n",
    "\t\t\t// Every time the productivity changes, it means from now till the end of this year, the productivity will change untill a new change.\n",
    "\t\t\tfor t = finish[i] : 8750\n",
    "\t\t\t    if start[i] is sanctioned\n",
    "\t\t\t    \tP[j,t] = p[j,start[i]](1.2)^(Duration/p[j,start[i]])\n",
    "\t\t\t\tif P[j,t] > 4\n",
    "\t\t\t\t\tp[j,t] = 4 // we just need to upper constraint its range here\n",
    "\t\t\t    else \n",
    "\t\t\t\tP[j,t] = p[j,start[i]](0.8)^(Duration/p[j,start[i]])\n",
    "\t\t\t\tif P[j,t] < 0.25\n",
    "\t\t\t\t\tp[j,t] = 0.25 // we just need to lower constraint its range here\n",
    "\t\t\tend\n",
    "\t\tend\n",
    "\tend\n",
    "end;\n",
    "```"
   ]
  },
  {
   "cell_type": "markdown",
   "metadata": {
    "collapsed": true
   },
   "source": [
    "## 5. More Discussion, Future Work, and Conclusions ##"
   ]
  },
  {
   "cell_type": "markdown",
   "metadata": {},
   "source": [
    "### Scaling Up"
   ]
  },
  {
   "cell_type": "markdown",
   "metadata": {},
   "source": [
    "An important part of why we chose this project was the scale of the problem. With a potential 10 million toys and 900 elves, spread across a continuous time period of 1 year, we were excted to try to solve such a large problem. Unfortunately we found that because we needed so many decision variables (Integer variables) and so many constraints, the model size quickly grew to become very infeasible even with 10 to 15 toys."
   ]
  },
  {
   "cell_type": "markdown",
   "metadata": {},
   "source": [
    "Addressing this issue may involve trying to relax the prolem to a Linear Program, or switching to another language or platform. "
   ]
  },
  {
   "cell_type": "markdown",
   "metadata": {},
   "source": [
    "Additionally, the problem may need to be formulated in a completely different manner. An interesting future direction may be to look at the problem from a different perspective, such as a specific shipment problem, in which we need to allocate a certain amount of elf-hours each day to building toys, we can allocate more hours but they are costly (overtime), and any toys not built must be built the next day. Being agnostic to the number of elves may allow the problem to be easily relaxed to a basic LP, and building upon that may allow for much larger scaling."
   ]
  },
  {
   "cell_type": "markdown",
   "metadata": {},
   "source": [
    "### Conclusions"
   ]
  },
  {
   "cell_type": "markdown",
   "metadata": {},
   "source": [
    "We were able to model a simple version of the problem described in the Kaggle competition. We were able to apply many Integer Programming modeling skills developed in class, and although we were able to see some results, we were not able to scale the problem effectively to the size required for competition. Future work would involve potentially algorithmic improvements, platform changes, or a complete revisit to the model we chose."
   ]
  },
  {
   "cell_type": "code",
   "execution_count": null,
   "metadata": {
    "collapsed": true
   },
   "outputs": [],
   "source": []
  }
 ],
 "metadata": {
  "kernelspec": {
   "display_name": "Julia 0.5.0",
   "language": "julia",
   "name": "julia-0.5"
  },
  "language_info": {
   "file_extension": ".jl",
   "mimetype": "application/julia",
   "name": "julia",
   "version": "0.5.0"
  }
 },
 "nbformat": 4,
 "nbformat_minor": 0
}
